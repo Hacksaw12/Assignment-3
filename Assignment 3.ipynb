{
 "cells": [
  {
   "cell_type": "markdown",
   "id": "56bffb62",
   "metadata": {},
   "source": [
    "# 1. Why are functions advantageous to have in your programs?\n",
    "Ans:> Functions reduce the need for duplicate code. This makes programs shorter, easier to read, and easier to update. ... A function call is what moves the program execution into the function, and the function call evaluates to the function's return value.\n"
   ]
  },
  {
   "cell_type": "markdown",
   "id": "0b5cf0c2",
   "metadata": {},
   "source": [
    "# 2. When does the code in a function run: when it’s specified or when it’s called?\n",
    "Ans:> Functions are \"self contained\" modules of code that accomplish a specific task. ... data variables are needed inside the function to accomplish its goal. We call the function when we  the specific task is need to be carried out repeatedly.\n"
   ]
  },
  {
   "cell_type": "markdown",
   "id": "2cfda170",
   "metadata": {},
   "source": [
    "# 3. What statement creates a function?\n",
    "Ans:> Python creating functions. A function is created with the def keyword. The statements in the block of the function must be indented. The def keyword is followed by the function name with round brackets and a colon. Example: def function():.\n"
   ]
  },
  {
   "cell_type": "markdown",
   "id": "bcaced9e",
   "metadata": {},
   "source": [
    "# 4. What is the difference between a function and a function call?\n",
    "Ans:> A function call means invoking or calling that function. Unless a function is called there is no use of that function. ... So the difference between the function and function call is, A function is procedure to achieve a particular result while function call is using this function to achive that task.\n"
   ]
  },
  {
   "cell_type": "markdown",
   "id": "d3b28cc4",
   "metadata": {},
   "source": [
    "# 5. How many global scopes are there in a Python program? How many local scopes?\n",
    "Ans:> There's only one global Python scope per program execution. This scope remains in existence until the program terminates and all its names are forgotten. When you use an unqualified name inside a function, Python searches three scopes—the local (L), then the global (G), and then the built-in (B)—and stops at the first place the name is found\n"
   ]
  },
  {
   "cell_type": "markdown",
   "id": "0d6cf013",
   "metadata": {},
   "source": [
    "# 6. What happens to variables in a local scope when the function call returns?\n",
    "Ans:> A local variable retains its value until the next time the function is called A local variable becomes undefined after the function call completes The local variable can be used outside the function any time after the function call completes.\n"
   ]
  },
  {
   "cell_type": "markdown",
   "id": "57a8a6b1",
   "metadata": {},
   "source": [
    "# 7. What is the concept of a return value? Is it possible to have a return value in an expression?\n",
    "Ans:> A return statement is used to end the execution of the function call and “returns” the result (value of the expression following the return keyword) to the caller. The statements after the return statements are not executed. If the return statement is without any expression, then the special value None is returned\n"
   ]
  },
  {
   "cell_type": "markdown",
   "id": "20b8eb7a",
   "metadata": {},
   "source": [
    "# 8. If a function does not have a return statement, what is the return value of a call to that function?\n",
    "Ans:> If expression is omitted, the return value of the function is undefined. ... If no return statement appears in a function definition, control automatically returns to the calling function after the last statement of the called function is executed. In this case, the return value of the called function is undefined.\n"
   ]
  },
  {
   "cell_type": "markdown",
   "id": "40128f6d",
   "metadata": {},
   "source": [
    "# 9. How do you make a function variable refer to the global variable?\n",
    "If you want to refer to a global variable in a function, you can use the global keyword to declare which variables are global.\n"
   ]
  },
  {
   "cell_type": "markdown",
   "id": "3895d71c",
   "metadata": {},
   "source": [
    "# 10. What is the data type of None?\n",
    "Ans:> None is used to define a null value. It is not the same as an empty string, False, or a zero. It is a data type of the class NoneType object. Assigning a value of None to a variable is one way to reset it to its original, empty state.\n"
   ]
  },
  {
   "cell_type": "markdown",
   "id": "bd0d96a0",
   "metadata": {},
   "source": [
    "# 11. What does the sentence import areallyourpetsnamederic do?\n",
    "A global statement will force a variable in a function to refer to the global variable. The data type of None is NoneType . That import statement imports a module named areallyourpetsnamederic.\n"
   ]
  },
  {
   "cell_type": "markdown",
   "id": "d67dcc62",
   "metadata": {},
   "source": [
    "# 12. If you had a bacon() feature in a spam module, what would you call it after importing spam?\n",
    "Ans:>import \n"
   ]
  },
  {
   "cell_type": "markdown",
   "id": "21d9b248",
   "metadata": {},
   "source": [
    "# 13. What can you do to save a programme from crashing if it encounters an error?\n",
    "Ans:> Prevents program from crashing if an error occurs. If an error occurs in a program, we don't want the program to unexpectedly crash on the user. Instead, error handling can be used to notify the user of why the error occurred and gracefully exit the process that caused the error.\n"
   ]
  },
  {
   "cell_type": "markdown",
   "id": "7937dab4",
   "metadata": {},
   "source": [
    "# 14. What is the purpose of the try clause? What is the purpose of the except clause?\n",
    "Ans:> The try block allows you to test a block of code for errors. The except block enables you to handle the error with a user-defined response.\n",
    " Use the EXCEPT clause to filter out specific results from a SELECT statement. The EXCEPT query operates on the results of two or more SELECT queries. It returns only those rows in the left-hand query that are not also present in the right-hand query\n"
   ]
  }
 ],
 "metadata": {
  "kernelspec": {
   "display_name": "Python 3",
   "language": "python",
   "name": "python3"
  },
  "language_info": {
   "codemirror_mode": {
    "name": "ipython",
    "version": 3
   },
   "file_extension": ".py",
   "mimetype": "text/x-python",
   "name": "python",
   "nbconvert_exporter": "python",
   "pygments_lexer": "ipython3",
   "version": "3.8.8"
  }
 },
 "nbformat": 4,
 "nbformat_minor": 5
}
